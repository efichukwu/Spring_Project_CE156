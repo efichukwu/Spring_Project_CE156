{
  "nbformat": 4,
  "nbformat_minor": 0,
  "metadata": {
    "colab": {
      "provenance": [],
      "authorship_tag": "ABX9TyP6zn6xBPhlO0l24nHrcgv3",
      "include_colab_link": true
    },
    "kernelspec": {
      "name": "python3",
      "display_name": "Python 3"
    },
    "language_info": {
      "name": "python"
    }
  },
  "cells": [
    {
      "cell_type": "markdown",
      "metadata": {
        "id": "view-in-github",
        "colab_type": "text"
      },
      "source": [
        "<a href=\"https://colab.research.google.com/github/efichukwu/Spring_Project_CE156/blob/main/CE156_Spring_Project_Exercise_3.ipynb\" target=\"_parent\"><img src=\"https://colab.research.google.com/assets/colab-badge.svg\" alt=\"Open In Colab\"/></a>"
      ]
    },
    {
      "cell_type": "markdown",
      "source": [
        "# **Exercise 3 (30%)**\n",
        "The three functions for this exercise should be written in a a single .py file. The submitted file should contain these 3 functions together with an auxiliary functions you might use, but should not submit any code that tests the functions. It is of course recommended that you do produce such code to test your functions, but this should not be submitted.\n",
        "\n",
        "a) Write a function that takes a string as a parameter and returns True if and only if the string is a palindrome (and returns False otherwise).\n",
        "\n",
        "b) Write a function that takes a string as a parameter, converts the string to upper-case and returns the most frequent letter/digit. (If there are equally frequent letters and digits you may return any one of the most frequent letters/digits.) Characters that are neither letters nor digits should be ignored.\n",
        "\n",
        "c) Write a function that takes a string as a parameter, counts the number of letters, spaces and digits in the string and returns a dict object containing the three counts as values."
      ],
      "metadata": {
        "id": "UkxNk6EmRVu4"
      }
    },
    {
      "cell_type": "code",
      "execution_count": 6,
      "metadata": {
        "id": "q2xsx3F2RA_J"
      },
      "outputs": [],
      "source": [
        "import unicodedata\n",
        "\n",
        "\n",
        "def is_palindrome(s):\n",
        "    \"\"\"\n",
        "    Returns True if the inputed string is a palindrome, and False otherwise.\n",
        "    \"\"\"\n",
        "    # Remove non-letter/digit characters and convert to lowercase\n",
        "    inputed_string = \"\".join(c.lower() for c in inputed_string if c.isalnum())\n",
        "\n",
        "    # Check if the string is equal to its reverse\n",
        "    return inputed_string == inputed_string[::-1]\n",
        "\n",
        "\n",
        "\n",
        "def most_frequent_without_accents(s):\n",
        "    \"\"\"\n",
        "    Removes accents from non-ASCII characters in the input string s,\n",
        "    converts the result to upper-case and returns the most frequent letter/digit.\n",
        "    \"\"\"\n",
        "    # Remove non-letter/digit characters and convert to uppercase\n",
        "    s = \"\".join(c.upper() for c in s if c.isalnum())\n",
        "\n",
        "    # Remove accents from non-ASCII characters\n",
        "    s = \"\".join(\n",
        "        c if ord(c) < 128 else unicodedata.normalize('NFKD', c).encode('ASCII', 'ignore').decode('ASCII')\n",
        "        for c in s\n",
        "    )\n",
        "\n",
        "    # Count the frequency of each character\n",
        "    freqs = {}\n",
        "    for c in s:\n",
        "        if c in freqs:\n",
        "            freqs[c] += 1\n",
        "        else:\n",
        "            freqs[c] = 1\n",
        "\n",
        "    # Find the most frequent character(s)\n",
        "    max_freq = max(freqs.values())\n",
        "    most_common = [c for c in freqs if freqs[c] == max_freq]\n",
        "\n",
        "    # Return any one of the most frequent characters\n",
        "    return most_common[0]\n",
        "\n",
        "\n",
        "def count_chars(s):\n",
        "    \"\"\"\n",
        "    Counts the number of letters, spaces and digits in the input string s and returns a dictionary\n",
        "    containing the counts.\n",
        "    \"\"\"\n",
        "    # Initialize the counts to zero\n",
        "    letter_count = 0\n",
        "    space_count = 0\n",
        "    digit_count = 0\n",
        "\n",
        "    # Iterate over the characters in the string and count each type\n",
        "    for c in s:\n",
        "        if c.isalpha():\n",
        "            letter_count += 1\n",
        "        elif c.isspace():\n",
        "            space_count += 1\n",
        "        elif c.isdigit():\n",
        "            digit_count += 1\n",
        "\n",
        "    # Return the counts as a dictionary\n",
        "    return {'letters': letter_count, 'spaces': space_count, 'digits': digit_count}"
      ]
    }
  ]
}