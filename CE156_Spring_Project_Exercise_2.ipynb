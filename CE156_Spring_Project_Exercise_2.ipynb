{
  "nbformat": 4,
  "nbformat_minor": 0,
  "metadata": {
    "colab": {
      "provenance": [],
      "authorship_tag": "ABX9TyOj10oJuIqlF86PXJnExHN3",
      "include_colab_link": true
    },
    "kernelspec": {
      "name": "python3",
      "display_name": "Python 3"
    },
    "language_info": {
      "name": "python"
    }
  },
  "cells": [
    {
      "cell_type": "markdown",
      "metadata": {
        "id": "view-in-github",
        "colab_type": "text"
      },
      "source": [
        "<a href=\"https://colab.research.google.com/github/efichukwu/Spring_Project_CE156/blob/main/CE156_Spring_Project_Exercise_2.ipynb\" target=\"_parent\"><img src=\"https://colab.research.google.com/assets/colab-badge.svg\" alt=\"Open In Colab\"/></a>"
      ]
    },
    {
      "cell_type": "markdown",
      "source": [
        "# **Exercise 2 (15%)**\n",
        "Write a function that returns a list of all non-prime numbers between two positive integers supplied as arguments. Use this is in a program that asks the user to supply two positive integers, checks that the input is valid, then calls the function and outputs the numbers in the returned list, with 10 numbers per output line.\n",
        "\n",
        "If the user enters negative numbers or supplies non-numeric input the program should output an appropriate error message; the two numbers should be accepted in either order. The range should be inclusive; if the user inputs 100 and 351 (or 351 and 100) these two numbers (which are both non-prime) should be included in the output."
      ],
      "metadata": {
        "id": "md1hho4rQOoO"
      }
    },
    {
      "cell_type": "code",
      "execution_count": 1,
      "metadata": {
        "colab": {
          "base_uri": "https://localhost:8080/"
        },
        "id": "IjUvJvI-QJZC",
        "outputId": "27146bd4-f067-4514-f1d5-5f9c3affff49"
      },
      "outputs": [
        {
          "output_type": "stream",
          "name": "stdout",
          "text": [
            "Enter the first positive integer: -5\n",
            "Enter the second positive integer: 10\n",
            "Error: Inputs must be positive integers\n"
          ]
        }
      ],
      "source": [
        "#creating a function to get the non prime numbers from a given user input\n",
        "def get_non_primes(start, end):\n",
        "    non_primes = []\n",
        "    for num in range(start, end+1):\n",
        "        if num > 1:\n",
        "            for i in range(2, int(num/2)+1):\n",
        "                if (num % i) == 0:\n",
        "                    non_primes.append(num)\n",
        "                    break\n",
        "    return non_primes\n",
        "\n",
        "def main():\n",
        "    # Asking the user to input two positive integers\n",
        "    try:\n",
        "        num1 = int(input(\"Enter the first positive integer: \"))\n",
        "        num2 = int(input(\"Enter the second positive integer: \"))\n",
        "    except ValueError:\n",
        "        print(\"Error: Invalid input\")\n",
        "        return\n",
        "    \n",
        "    # Checking the validity of the inputed value\n",
        "    if num1 <= 0 or num2 <= 0:\n",
        "        print(\"Error: Inputs must be positive integers\")\n",
        "        return\n",
        "\n",
        "    # Determining the start and end values for the range from the inputed values.\n",
        "    start = min(num1, num2)\n",
        "    end = max(num1, num2)\n",
        "\n",
        "    # Getting the list of non-primes in the range\n",
        "    non_primes = get_non_primes(start, end)\n",
        "\n",
        "    # Outputing the non-primes with 10 numbers per output line\n",
        "    count = 0\n",
        "    for num in non_primes:\n",
        "        print(num, end=\" \")\n",
        "        count += 1\n",
        "        if count == 10:\n",
        "            print()\n",
        "            count = 0\n",
        "\n",
        "    # If there are no non-primes in the range, output a message\n",
        "    if not non_primes:\n",
        "        print(\"There are no non-primes in the specified range\")\n",
        "\n",
        "if __name__ == '__main__':\n",
        "    main()"
      ]
    }
  ]
}