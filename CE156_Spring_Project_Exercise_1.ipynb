{
  "cells": [
    {
      "cell_type": "markdown",
      "metadata": {
        "id": "view-in-github",
        "colab_type": "text"
      },
      "source": [
        "<a href=\"https://colab.research.google.com/github/efichukwu/Spring_Project_CE156/blob/main/CE156_Spring_Project_Exercise_1.ipynb\" target=\"_parent\"><img src=\"https://colab.research.google.com/assets/colab-badge.svg\" alt=\"Open In Colab\"/></a>"
      ]
    },
    {
      "cell_type": "markdown",
      "metadata": {
        "id": "E--ZP0c2gByT"
      },
      "source": [
        "# **Exercise 1 (10%)**\n",
        "Write a program that asks the user to input his/her date of birth in the format mm/dd/yyyy.(Note that this exercise uses the American format, not the European one so 03/25/2023 would be 25th March.)\n",
        "\n",
        "If the input is not in the correct format or the date is invalid the program should output an appropriate error message. If the input is a valid date the program should calculate and output the user’s age. (You will need to check whether the user has had a birthday this year e.g. someone born in January 2000 will be 22 on 25th March 2022, but someone born in April will still be 21.) The program should additionally output the date in European format (e.g. 25/03/2023 for 25th March).\n",
        "\n",
        "To calculate the age you will need to obtain today’s date; to do this you need to use the line \n",
        "\n",
        "**from datetime import date**\n",
        "\n",
        "and then use date.today() to obtain a date object containing today’s date. You can access the day, month and year of a date d using d.day, d.month and d.year (these are all integer values)."
      ]
    },
    {
      "cell_type": "code",
      "execution_count": 3,
      "metadata": {
        "colab": {
          "base_uri": "https://localhost:8080/"
        },
        "id": "ZrLS_5LCgApc",
        "outputId": "d5f38cf1-93e5-4d1c-ecee-b09a1991e754"
      },
      "outputs": [
        {
          "output_type": "stream",
          "name": "stdout",
          "text": [
            "Enter your date of birth (mm/dd/yyyy): 05/22/1990\n",
            "Your age is: 32\n",
            "Date of birth (European format): 22/05/1990\n"
          ]
        }
      ],
      "source": [
        "from datetime import datetime, date\n",
        "\n",
        "# Ask the user for their date of birth and checking validity\n",
        "while True:\n",
        "    try:\n",
        "        User_DOB = input(\"Enter your date of birth (mm/dd/yyyy): \")\n",
        "        D_O_B = datetime.strptime(User_DOB, \"%m/%d/%Y\").date()\n",
        "        break\n",
        "    except ValueError:\n",
        "        print(\"Error: Invalid date format\")\n",
        "\n",
        "# Calculating the age\n",
        "def calc_age(D_O_B):\n",
        "    today = date.today()\n",
        "    age = today.year - D_O_B.year - ((today.month, today.day) < (D_O_B.month, D_O_B.day))\n",
        "    # Output the age and date in European format\n",
        "    print(\"Your age is:\", age)\n",
        "    print(\"Date of birth (European format):\", D_O_B.strftime(\"%d/%m/%Y\"))\n",
        "\n",
        "# Checking if the date is in the future\n",
        "if D_O_B > date.today():\n",
        "    print(\"Error: Date of birth is in the future\")\n",
        "else:\n",
        "    calc_age(D_O_B)"
      ]
    }
  ],
  "metadata": {
    "colab": {
      "provenance": [],
      "authorship_tag": "ABX9TyMWr04kyPi1sDcdVHNuOnIf",
      "include_colab_link": true
    },
    "kernelspec": {
      "display_name": "Python 3",
      "name": "python3"
    },
    "language_info": {
      "name": "python"
    }
  },
  "nbformat": 4,
  "nbformat_minor": 0
}